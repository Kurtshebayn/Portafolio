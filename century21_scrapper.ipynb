{
 "cells": [
  {
   "cell_type": "code",
   "execution_count": 1,
   "metadata": {},
   "outputs": [],
   "source": [
    "import requests\n",
    "from bs4 import BeautifulSoup\n",
    "import pandas as pd\n",
    "import json"
   ]
  },
  {
   "cell_type": "markdown",
   "metadata": {},
   "source": [
    "## Atributos"
   ]
  },
  {
   "cell_type": "code",
   "execution_count": 2,
   "metadata": {},
   "outputs": [],
   "source": [
    "user_agent = 'Mozilla/5.0 (Windows NT 10.0; Win64; x64; rv:130.0) Gecko/20100101 Firefox/130.0'"
   ]
  },
  {
   "cell_type": "markdown",
   "metadata": {},
   "source": [
    "## Clase de requests"
   ]
  },
  {
   "cell_type": "code",
   "execution_count": 3,
   "metadata": {},
   "outputs": [],
   "source": [
    "class Requester():\n",
    "    def __init__(self):\n",
    "        self.__requests_tries = 3\n",
    "        self.timeout = 15\n",
    "        self.__init_session()\n",
    "\n",
    "    def __init_session(self):\n",
    "        \"\"\"\n",
    "        Initializes a session object for making requests.\n",
    "\n",
    "        Returns:\n",
    "            requests.Session: The session object.\n",
    "\n",
    "        \"\"\"\n",
    "        self.session = requests.Session()\n",
    "\n",
    "    def get_requests(self, url, headers, proxy=None):\n",
    "        \"\"\"\n",
    "        Sends a GET request to the specified URL using the provided session, headers, and proxy.\n",
    "\n",
    "        Args:\n",
    "            session (requests.Session): The session object to use for making the request.\n",
    "            url (str): The URL to send the request to.\n",
    "            headers (dict): The headers to include in the request.\n",
    "            proxy (dict, optional): The proxy to use for the request. Defaults to None.\n",
    "\n",
    "        Returns:\n",
    "            requests.Response or None: The response object if the request is successful (status code 200), \n",
    "            otherwise None.\n",
    "\n",
    "        Raises:\n",
    "            requests.exceptions.RequestException: If an error occurs while making the request.\n",
    "            requests.exceptions.Timeout: If the request times out.\n",
    "\n",
    "        \"\"\"\n",
    "        for _ in range(self.__requests_tries):\n",
    "            try:\n",
    "                response = self.session.get(\n",
    "                    url,\n",
    "                    headers=headers,\n",
    "                    proxies=proxy,\n",
    "                    timeout=self.timeout\n",
    "                )\n",
    "                if response.status_code == 200:\n",
    "                    return response\n",
    "            except requests.exceptions.RequestException as e:\n",
    "                print(e)\n",
    "            except requests.exceptions.Timeout as e:\n",
    "                print(e)\n",
    "        return None\n",
    "\n",
    "\n",
    "    def post_requests(self, url, headers, data=None, proxy=None):\n",
    "        \"\"\"\n",
    "        Sends a POST request to the specified URL with the given headers, data, and proxy.\n",
    "\n",
    "        Parameters:\n",
    "        url (str): The URL to send the POST request to.\n",
    "        headers (dict): The headers to include in the request.\n",
    "        data (dict, optional): The data to include in the request body. Defaults to None.\n",
    "        proxy (dict, optional): The proxy to use for the request. Defaults to None.\n",
    "\n",
    "        Returns:\n",
    "        response (requests.Response): The response object if the request is successful and the status code is 200.\n",
    "        None: If the request fails or the status code is not 200.\n",
    "        \"\"\"\n",
    "        for _ in range(self.__requests_tries):\n",
    "            try:\n",
    "                response = self.session.post(\n",
    "                    url,\n",
    "                    headers=headers,\n",
    "                    data=data,\n",
    "                    proxies=proxy\n",
    "                )\n",
    "                if response.status_code == 200:\n",
    "                    return response\n",
    "            except requests.exceptions.RequestException as e:\n",
    "                print(e)\n",
    "            except requests.exceptions.Timeout as e:\n",
    "                print(e)\n",
    "        return None"
   ]
  },
  {
   "cell_type": "code",
   "execution_count": 4,
   "metadata": {},
   "outputs": [],
   "source": [
    "url_json_sale = 'https://century21mexico.com/v/resultados/operacion_venta?json=true'\n",
    "url_json_rent = 'https://century21mexico.com/v/resultados/operacion_renta?json=true'\n",
    "headers_json = {\n",
    "    'Host': 'century21mexico.com',\n",
    "    'User-Agent': user_agent,\n",
    "    'Accept': 'application/json, text/plain, */*',\n",
    "    'Accept-Language': 'en-CA,en-US;q=0.7,en;q=0.3',\n",
    "    'Accept-Encoding': 'gzip, deflate, br, zstd',\n",
    "    'DNT' : '1',\n",
    "    'Sec-GPC' : '1',\n",
    "    'Connection' : 'keep-alive',\n",
    "    'Referer' : 'https://century21mexico.com/v/resultados',\n",
    "    'Sec-Fetch-Dest' : 'empty',\n",
    "    'Sec-Fetch-Mode' : 'cors',\n",
    "    'Sec-Fetch-Site' : 'same-origin'\n",
    "}"
   ]
  },
  {
   "cell_type": "code",
   "execution_count": 5,
   "metadata": {},
   "outputs": [],
   "source": [
    "def get_price_range(req, url, header):\n",
    "    start_price = 0\n",
    "    hits_counter = 0\n",
    "    subtotal_hits_results = 0\n",
    "    urls_price = []\n",
    "\n",
    "    response = req.get_requests(url, header)\n",
    "    response_json = response.json()\n",
    "    total_hits_results = int(response_json['totalHits'].replace(',',''))\n",
    "    if response_json['filtros'][1]['validValues'][1]['isActive'] == True:\n",
    "        end_price = 12000\n",
    "        increment = end_price\n",
    "    else:\n",
    "        end_price = 500000\n",
    "        increment = end_price\n",
    "    url_final = url.replace('?json=true', '')\n",
    "    while hits_counter < total_hits_results - subtotal_hits_results:\n",
    "        if (total_hits_results - hits_counter) > 1500:\n",
    "            url_price = f'{url_final}/precio-desde_{start_price}/precio-hasta_{end_price}?json=true'\n",
    "        else:\n",
    "            url_price = f'{url_final}/precio-desde_{start_price}?json=true'\n",
    "        response_price = req.get_requests(url_price, header)\n",
    "        response_price_json = response_price.json()\n",
    "        subtotal_hits_results = int(response_price_json['totalHits'].replace(',',''))\n",
    "        hits_counter += subtotal_hits_results\n",
    "        start_price = end_price + 1\n",
    "        end_price += increment\n",
    "        urls_price.append(url_price)\n",
    "    return urls_price"
   ]
  },
  {
   "cell_type": "code",
   "execution_count": null,
   "metadata": {},
   "outputs": [],
   "source": []
  },
  {
   "cell_type": "code",
   "execution_count": 27,
   "metadata": {},
   "outputs": [],
   "source": [
    "def get_page_number(req, url, header):\n",
    "    response = req.get_requests(url, header)\n",
    "    response_json = response.json()\n",
    "    pages = response_json['filtros'][20]['validValues']\n",
    "    url_page = [page['url'] for page in pages]\n",
    "    urls_page = []\n",
    "    for i in range(len(url_page)):\n",
    "        urls_page.append(url.replace('?', f'{url_page[i]}?'))\n",
    "    return urls_page"
   ]
  },
  {
   "cell_type": "code",
   "execution_count": 7,
   "metadata": {},
   "outputs": [],
   "source": [
    "req = Requester()"
   ]
  },
  {
   "cell_type": "code",
   "execution_count": 8,
   "metadata": {},
   "outputs": [
    {
     "data": {
      "text/plain": [
       "<RequestsCookieJar[]>"
      ]
     },
     "execution_count": 8,
     "metadata": {},
     "output_type": "execute_result"
    }
   ],
   "source": [
    "req.session.cookies"
   ]
  },
  {
   "cell_type": "code",
   "execution_count": 28,
   "metadata": {},
   "outputs": [
    {
     "data": {
      "text/plain": [
       "['https://century21mexico.com/v/resultados/operacion_renta/precio-desde_0/precio-hasta_12000/pagina_1?json=true',\n",
       " 'https://century21mexico.com/v/resultados/operacion_renta/precio-desde_0/precio-hasta_12000/pagina_2?json=true',\n",
       " 'https://century21mexico.com/v/resultados/operacion_renta/precio-desde_0/precio-hasta_12000/pagina_3?json=true',\n",
       " 'https://century21mexico.com/v/resultados/operacion_renta/precio-desde_0/precio-hasta_12000/pagina_4?json=true',\n",
       " 'https://century21mexico.com/v/resultados/operacion_renta/precio-desde_0/precio-hasta_12000/pagina_5?json=true',\n",
       " 'https://century21mexico.com/v/resultados/operacion_renta/precio-desde_0/precio-hasta_12000/pagina_6?json=true',\n",
       " 'https://century21mexico.com/v/resultados/operacion_renta/precio-desde_0/precio-hasta_12000/pagina_7?json=true',\n",
       " 'https://century21mexico.com/v/resultados/operacion_renta/precio-desde_0/precio-hasta_12000/pagina_8?json=true',\n",
       " 'https://century21mexico.com/v/resultados/operacion_renta/precio-desde_0/precio-hasta_12000/pagina_9?json=true',\n",
       " 'https://century21mexico.com/v/resultados/operacion_renta/precio-desde_0/precio-hasta_12000/pagina_10?json=true',\n",
       " 'https://century21mexico.com/v/resultados/operacion_renta/precio-desde_0/precio-hasta_12000/pagina_11?json=true']"
      ]
     },
     "execution_count": 28,
     "metadata": {},
     "output_type": "execute_result"
    }
   ],
   "source": [
    "list2 = [get_page_number(req,li,headers_json ) for li in list]\n",
    "list2[0]"
   ]
  },
  {
   "cell_type": "code",
   "execution_count": 11,
   "metadata": {},
   "outputs": [
    {
     "data": {
      "text/plain": [
       "<Response [200]>"
      ]
     },
     "execution_count": 11,
     "metadata": {},
     "output_type": "execute_result"
    }
   ],
   "source": [
    "response_rent = req.get_requests(url_json_rent, headers_json)\n",
    "response_rent"
   ]
  },
  {
   "cell_type": "code",
   "execution_count": null,
   "metadata": {},
   "outputs": [],
   "source": [
    "def get_results_info(req, url, header):\n",
    "    response = req.get_requests(url, header)\n",
    "    response_results = response.json()\n",
    "    "
   ]
  },
  {
   "cell_type": "code",
   "execution_count": 10,
   "metadata": {},
   "outputs": [
    {
     "data": {
      "text/plain": [
       "<Response [200]>"
      ]
     },
     "execution_count": 10,
     "metadata": {},
     "output_type": "execute_result"
    }
   ],
   "source": [
    "response_sale = req.get_requests(url_json_sale, headers_json)\n",
    "response_sale"
   ]
  },
  {
   "cell_type": "code",
   "execution_count": 11,
   "metadata": {},
   "outputs": [],
   "source": [
    "soup_sale = BeautifulSoup(response_sale.content, 'html.parser')"
   ]
  },
  {
   "cell_type": "code",
   "execution_count": 168,
   "metadata": {},
   "outputs": [],
   "source": [
    "soup = BeautifulSoup(response.content, 'html.parser')\n",
    "urls_page = get_page_number(soup)\n",
    "df = pd.DataFrame()"
   ]
  },
  {
   "cell_type": "code",
   "execution_count": 169,
   "metadata": {},
   "outputs": [],
   "source": [
    "def get_result_page(url):\n",
    "     response = req.get_requests(url, headers_json)\n",
    "     if response:\n",
    "          soup = response.json()\n",
    "          results = soup['results']\n",
    "     return results"
   ]
  },
  {
   "cell_type": "code",
   "execution_count": 170,
   "metadata": {},
   "outputs": [],
   "source": [
    "for url in urls_page:\n",
    "    result = get_result_page(url)\n",
    "    df = pd.concat([df, pd.DataFrame(result)], ignore_index=True)\n"
   ]
  }
 ],
 "metadata": {
  "kernelspec": {
   "display_name": "Python 3",
   "language": "python",
   "name": "python3"
  },
  "language_info": {
   "codemirror_mode": {
    "name": "ipython",
    "version": 3
   },
   "file_extension": ".py",
   "mimetype": "text/x-python",
   "name": "python",
   "nbconvert_exporter": "python",
   "pygments_lexer": "ipython3",
   "version": "3.12.2"
  }
 },
 "nbformat": 4,
 "nbformat_minor": 2
}
